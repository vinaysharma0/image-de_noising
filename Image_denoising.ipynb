{
  "nbformat": 4,
  "nbformat_minor": 0,
  "metadata": {
    "colab": {
      "name": "Image-denoising.ipynb",
      "provenance": []
    },
    "kernelspec": {
      "name": "python3",
      "display_name": "Python 3"
    },
    "accelerator": "GPU"
  },
  "cells": [
    {
      "cell_type": "code",
      "metadata": {
        "id": "VQlG9YeRL_vY",
        "colab_type": "code",
        "colab": {}
      },
      "source": [
        "import pandas as pd\n",
        "import numpy as np\n",
        "import matplotlib.pyplot as plt"
      ],
      "execution_count": 0,
      "outputs": []
    },
    {
      "cell_type": "code",
      "metadata": {
        "id": "EbV_-PC9MFKM",
        "colab_type": "code",
        "colab": {}
      },
      "source": [
        "train = pd.read_csv('/content/drive/My Drive/DL Projects/Auto-encoder CNN/train.csv')"
      ],
      "execution_count": 0,
      "outputs": []
    },
    {
      "cell_type": "code",
      "metadata": {
        "id": "HVYNUx6zMGoF",
        "colab_type": "code",
        "colab": {}
      },
      "source": [
        "test = pd.read_csv('/content/drive/My Drive/DL Projects/Auto-encoder CNN/test.csv')"
      ],
      "execution_count": 0,
      "outputs": []
    },
    {
      "cell_type": "code",
      "metadata": {
        "id": "6ko6JVApMIMU",
        "colab_type": "code",
        "colab": {}
      },
      "source": [
        "train_X = train.drop(labels = 'label', axis = 1)"
      ],
      "execution_count": 0,
      "outputs": []
    },
    {
      "cell_type": "code",
      "metadata": {
        "id": "a1_u-M_mMQuf",
        "colab_type": "code",
        "colab": {}
      },
      "source": [
        "train_X = train_X.values\n",
        "test_X = test.values"
      ],
      "execution_count": 0,
      "outputs": []
    },
    {
      "cell_type": "code",
      "metadata": {
        "id": "qg86xR-SMSSv",
        "colab_type": "code",
        "colab": {}
      },
      "source": [
        "train_X = train_X / 255.0\n",
        "test_X = test_X / 255.0"
      ],
      "execution_count": 0,
      "outputs": []
    },
    {
      "cell_type": "code",
      "metadata": {
        "id": "M6GYnlVzMT7L",
        "colab_type": "code",
        "colab": {
          "base_uri": "https://localhost:8080/",
          "height": 1000
        },
        "outputId": "cb9b9f3f-0791-4273-a1fc-090aef100a09"
      },
      "source": [
        "for i,_ in enumerate(train_X[:4]):\n",
        "    plt.imshow(train_X[i].reshape((28,28)))\n",
        "    plt.gray()\n",
        "    plt.show()"
      ],
      "execution_count": 7,
      "outputs": [
        {
          "output_type": "display_data",
          "data": {
            "image/png": "[encoded data removed]",
            "text/plain": [
              "<Figure size 432x288 with 1 Axes>"
            ]
          },
          "metadata": {
            "tags": []
          }
        },
        {
          "output_type": "display_data",
          "data": {
            "image/png": "[encoded data removed]",
            "text/plain": [
              "<Figure size 432x288 with 1 Axes>"
            ]
          },
          "metadata": {
            "tags": []
          }
        },
        {
          "output_type": "display_data",
          "data": {
            "image/png": "[encoded data removed]",
            "text/plain": [
              "<Figure size 432x288 with 1 Axes>"
            ]
          },
          "metadata": {
            "tags": []
          }
        },
        {
          "output_type": "display_data",
          "data": {
            "image/png": "[encoded data removed]",
            "text/plain": [
              "<Figure size 432x288 with 1 Axes>"
            ]
          },
          "metadata": {
            "tags": []
          }
        }
      ]
    },
    {
      "cell_type": "code",
      "metadata": {
        "id": "GwYJucdvMwfN",
        "colab_type": "code",
        "colab": {
          "base_uri": "https://localhost:8080/",
          "height": 282
        },
        "outputId": "fb78ccc3-f8af-49d1-f900-23ba03cb92d1"
      },
      "source": [
        "# The code below is from the Keras Blogs\n",
        "# https://blog.keras.io/building-autoencoders-in-keras.html\n",
        "\n",
        "noise_factor = 0.5\n",
        "x_train_noisy = train_X + noise_factor * np.random.normal(loc=0.0, scale=1.0, size=train_X.shape) \n",
        "x_test_noisy = test_X + noise_factor * np.random.normal(loc=0.0, scale=1.0, size=test_X.shape) \n",
        "\n",
        "x_train_noisy = np.clip(x_train_noisy, 0., 1.)\n",
        "x_test_noisy = np.clip(x_test_noisy, 0., 1.)\n",
        "\n",
        "#Print one image to see the noise\n",
        "plt.imshow(x_test_noisy[1].reshape(28, 28))"
      ],
      "execution_count": 8,
      "outputs": [
        {
          "output_type": "execute_result",
          "data": {
            "text/plain": [
              "<matplotlib.image.AxesImage at 0x7f96a6c65128>"
            ]
          },
          "metadata": {
            "tags": []
          },
          "execution_count": 8
        },
        {
          "output_type": "display_data",
          "data": {
            "image/png": "[encoded data removed]",
            "text/plain": [
              "<Figure size 432x288 with 1 Axes>"
            ]
          },
          "metadata": {
            "tags": []
          }
        }
      ]
    },
    {
      "cell_type": "code",
      "metadata": {
        "id": "11E2aY-HOgKX",
        "colab_type": "code",
        "colab": {}
      },
      "source": [
        "train_X = train_X.reshape(-1,28,28,1)\n",
        "test_X = test_X.reshape(-1,28,28,1)"
      ],
      "execution_count": 0,
      "outputs": []
    },
    {
      "cell_type": "code",
      "metadata": {
        "id": "7y99c8RPOwZZ",
        "colab_type": "code",
        "colab": {}
      },
      "source": [
        "x_test_noisy = x_test_noisy.reshape(-1,28,28,1)\n",
        "x_train_noisy = x_train_noisy.reshape(-1,28,28,1)"
      ],
      "execution_count": 0,
      "outputs": []
    },
    {
      "cell_type": "code",
      "metadata": {
        "id": "N8m_Hs4GMVhM",
        "colab_type": "code",
        "colab": {}
      },
      "source": [
        "from tensorflow.keras.layers import  Input, Dense, MaxPooling2D, UpSampling2D, Conv2D\n",
        "from tensorflow.keras.models import Sequential, Model"
      ],
      "execution_count": 0,
      "outputs": []
    },
    {
      "cell_type": "code",
      "metadata": {
        "id": "UaKgfjCCMYSI",
        "colab_type": "code",
        "colab": {}
      },
      "source": [
        "input_img = Input(shape=(28, 28, 1,))\n",
        "\n",
        "nn = Conv2D(32, (3, 3), activation='relu', padding='same')(input_img)\n",
        "nn = MaxPooling2D((2, 2), padding='same')(nn)\n",
        "nn = Conv2D(32, (3, 3), activation='relu', padding='same')(nn)\n",
        "encoded = MaxPooling2D((2, 2), padding='same')(nn)"
      ],
      "execution_count": 0,
      "outputs": []
    },
    {
      "cell_type": "code",
      "metadata": {
        "id": "xoOX7KAFMmDO",
        "colab_type": "code",
        "colab": {}
      },
      "source": [
        "nn = Conv2D(32, (3, 3), activation='relu', padding='same')(encoded)\n",
        "nn = UpSampling2D((2, 2))(nn)\n",
        "nn = Conv2D(32, (3, 3), activation='relu', padding='same')(nn)\n",
        "nn = UpSampling2D((2, 2))(nn)\n",
        "decoded = Conv2D(1, (3, 3), activation='sigmoid', padding='same')(nn)"
      ],
      "execution_count": 0,
      "outputs": []
    },
    {
      "cell_type": "code",
      "metadata": {
        "id": "g6MeEMxCNNYz",
        "colab_type": "code",
        "colab": {
          "base_uri": "https://localhost:8080/",
          "height": 34
        },
        "outputId": "1e0e9d76-8c75-4111-bffa-386162888071"
      },
      "source": [
        "x_test_noisy.shape"
      ],
      "execution_count": 14,
      "outputs": [
        {
          "output_type": "execute_result",
          "data": {
            "text/plain": [
              "(28000, 28, 28, 1)"
            ]
          },
          "metadata": {
            "tags": []
          },
          "execution_count": 14
        }
      ]
    },
    {
      "cell_type": "code",
      "metadata": {
        "id": "o8nwbODTMpjm",
        "colab_type": "code",
        "colab": {
          "base_uri": "https://localhost:8080/",
          "height": 1000
        },
        "outputId": "0b413239-d50b-4db6-83d8-555b1d17a7e9"
      },
      "source": [
        "autoencoder = Model(input_img, decoded)\n",
        "autoencoder.compile(optimizer='adadelta',loss='binary_crossentropy')\n",
        "autoencoder.fit(x_train_noisy, train_X,\n",
        "                epochs=200,\n",
        "                batch_size=64,\n",
        "                validation_data=(x_test_noisy, test_X))"
      ],
      "execution_count": 21,
      "outputs": [
        {
          "output_type": "stream",
          "text": [
            "Epoch 1/200\n",
            "657/657 [==============================] - 3s 5ms/step - loss: 0.1536 - val_loss: 0.1530\n",
            "Epoch 2/200\n",
            "657/657 [==============================] - 3s 5ms/step - loss: 0.1532 - val_loss: 0.1526\n",
            "Epoch 3/200\n",
            "657/657 [==============================] - 3s 5ms/step - loss: 0.1528 - val_loss: 0.1522\n",
            "Epoch 4/200\n",
            "657/657 [==============================] - 3s 5ms/step - loss: 0.1524 - val_loss: 0.1518\n",
            "Epoch 5/200\n",
            "657/657 [==============================] - 3s 5ms/step - loss: 0.1520 - val_loss: 0.1515\n",
            "Epoch 6/200\n",
            "657/657 [==============================] - 3s 5ms/step - loss: 0.1517 - val_loss: 0.1511\n",
            "Epoch 7/200\n",
            "657/657 [==============================] - 3s 5ms/step - loss: 0.1513 - val_loss: 0.1507\n",
            "Epoch 8/200\n",
            "657/657 [==============================] - 3s 5ms/step - loss: 0.1509 - val_loss: 0.1504\n",
            "Epoch 9/200\n",
            "657/657 [==============================] - 3s 5ms/step - loss: 0.1505 - val_loss: 0.1500\n",
            "Epoch 10/200\n",
            "657/657 [==============================] - 3s 5ms/step - loss: 0.1502 - val_loss: 0.1496\n",
            "Epoch 11/200\n",
            "657/657 [==============================] - 3s 5ms/step - loss: 0.1498 - val_loss: 0.1493\n",
            "Epoch 12/200\n",
            "657/657 [==============================] - 3s 5ms/step - loss: 0.1495 - val_loss: 0.1489\n",
            "Epoch 13/200\n",
            "657/657 [==============================] - 3s 5ms/step - loss: 0.1491 - val_loss: 0.1486\n",
            "Epoch 14/200\n",
            "657/657 [==============================] - 3s 5ms/step - loss: 0.1488 - val_loss: 0.1482\n",
            "Epoch 15/200\n",
            "657/657 [==============================] - 3s 5ms/step - loss: 0.1484 - val_loss: 0.1479\n",
            "Epoch 16/200\n",
            "657/657 [==============================] - 3s 5ms/step - loss: 0.1481 - val_loss: 0.1476\n",
            "Epoch 17/200\n",
            "657/657 [==============================] - 3s 5ms/step - loss: 0.1478 - val_loss: 0.1473\n",
            "Epoch 18/200\n",
            "657/657 [==============================] - 3s 5ms/step - loss: 0.1475 - val_loss: 0.1469\n",
            "Epoch 19/200\n",
            "657/657 [==============================] - 3s 5ms/step - loss: 0.1471 - val_loss: 0.1466\n",
            "Epoch 20/200\n",
            "657/657 [==============================] - 3s 5ms/step - loss: 0.1468 - val_loss: 0.1463\n",
            "Epoch 21/200\n",
            "657/657 [==============================] - 3s 5ms/step - loss: 0.1465 - val_loss: 0.1460\n",
            "Epoch 22/200\n",
            "657/657 [==============================] - 3s 5ms/step - loss: 0.1462 - val_loss: 0.1457\n",
            "Epoch 23/200\n",
            "657/657 [==============================] - 3s 5ms/step - loss: 0.1459 - val_loss: 0.1454\n",
            "Epoch 24/200\n",
            "657/657 [==============================] - 3s 5ms/step - loss: 0.1456 - val_loss: 0.1451\n",
            "Epoch 25/200\n",
            "657/657 [==============================] - 3s 5ms/step - loss: 0.1453 - val_loss: 0.1448\n",
            "Epoch 26/200\n",
            "657/657 [==============================] - 3s 5ms/step - loss: 0.1450 - val_loss: 0.1445\n",
            "Epoch 27/200\n",
            "657/657 [==============================] - 3s 5ms/step - loss: 0.1447 - val_loss: 0.1442\n",
            "Epoch 28/200\n",
            "657/657 [==============================] - 3s 5ms/step - loss: 0.1444 - val_loss: 0.1439\n",
            "Epoch 29/200\n",
            "657/657 [==============================] - 3s 5ms/step - loss: 0.1441 - val_loss: 0.1436\n",
            "Epoch 30/200\n",
            "657/657 [==============================] - 3s 5ms/step - loss: 0.1438 - val_loss: 0.1433\n",
            "Epoch 31/200\n",
            "657/657 [==============================] - 3s 5ms/step - loss: 0.1435 - val_loss: 0.1430\n",
            "Epoch 32/200\n",
            "657/657 [==============================] - 3s 5ms/step - loss: 0.1432 - val_loss: 0.1427\n",
            "Epoch 33/200\n",
            "657/657 [==============================] - 3s 5ms/step - loss: 0.1429 - val_loss: 0.1425\n",
            "Epoch 34/200\n",
            "657/657 [==============================] - 3s 5ms/step - loss: 0.1427 - val_loss: 0.1422\n",
            "Epoch 35/200\n",
            "657/657 [==============================] - 3s 5ms/step - loss: 0.1424 - val_loss: 0.1419\n",
            "Epoch 36/200\n",
            "657/657 [==============================] - 3s 5ms/step - loss: 0.1421 - val_loss: 0.1416\n",
            "Epoch 37/200\n",
            "657/657 [==============================] - 3s 5ms/step - loss: 0.1418 - val_loss: 0.1414\n",
            "Epoch 38/200\n",
            "657/657 [==============================] - 3s 5ms/step - loss: 0.1416 - val_loss: 0.1411\n",
            "Epoch 39/200\n",
            "657/657 [==============================] - 3s 5ms/step - loss: 0.1413 - val_loss: 0.1408\n",
            "Epoch 40/200\n",
            "657/657 [==============================] - 3s 5ms/step - loss: 0.1410 - val_loss: 0.1405\n",
            "Epoch 41/200\n",
            "657/657 [==============================] - 3s 5ms/step - loss: 0.1407 - val_loss: 0.1403\n",
            "Epoch 42/200\n",
            "657/657 [==============================] - 3s 5ms/step - loss: 0.1405 - val_loss: 0.1400\n",
            "Epoch 43/200\n",
            "657/657 [==============================] - 3s 5ms/step - loss: 0.1402 - val_loss: 0.1398\n",
            "Epoch 44/200\n",
            "657/657 [==============================] - 3s 5ms/step - loss: 0.1399 - val_loss: 0.1395\n",
            "Epoch 45/200\n",
            "657/657 [==============================] - 3s 5ms/step - loss: 0.1397 - val_loss: 0.1392\n",
            "Epoch 46/200\n",
            "657/657 [==============================] - 3s 5ms/step - loss: 0.1394 - val_loss: 0.1390\n",
            "Epoch 47/200\n",
            "657/657 [==============================] - 3s 5ms/step - loss: 0.1392 - val_loss: 0.1387\n",
            "Epoch 48/200\n",
            "657/657 [==============================] - 3s 5ms/step - loss: 0.1389 - val_loss: 0.1385\n",
            "Epoch 49/200\n",
            "657/657 [==============================] - 3s 5ms/step - loss: 0.1387 - val_loss: 0.1382\n",
            "Epoch 50/200\n",
            "657/657 [==============================] - 3s 5ms/step - loss: 0.1384 - val_loss: 0.1380\n",
            "Epoch 51/200\n",
            "657/657 [==============================] - 3s 5ms/step - loss: 0.1382 - val_loss: 0.1378\n",
            "Epoch 52/200\n",
            "657/657 [==============================] - 3s 5ms/step - loss: 0.1380 - val_loss: 0.1375\n",
            "Epoch 53/200\n",
            "657/657 [==============================] - 3s 5ms/step - loss: 0.1377 - val_loss: 0.1373\n",
            "Epoch 54/200\n",
            "657/657 [==============================] - 3s 5ms/step - loss: 0.1375 - val_loss: 0.1371\n",
            "Epoch 55/200\n",
            "657/657 [==============================] - 3s 5ms/step - loss: 0.1373 - val_loss: 0.1369\n",
            "Epoch 56/200\n",
            "657/657 [==============================] - 3s 5ms/step - loss: 0.1370 - val_loss: 0.1366\n",
            "Epoch 57/200\n",
            "657/657 [==============================] - 3s 5ms/step - loss: 0.1368 - val_loss: 0.1364\n",
            "Epoch 58/200\n",
            "657/657 [==============================] - 3s 5ms/step - loss: 0.1366 - val_loss: 0.1362\n",
            "Epoch 59/200\n",
            "657/657 [==============================] - 3s 5ms/step - loss: 0.1364 - val_loss: 0.1360\n",
            "Epoch 60/200\n",
            "657/657 [==============================] - 3s 5ms/step - loss: 0.1362 - val_loss: 0.1358\n",
            "Epoch 61/200\n",
            "657/657 [==============================] - 3s 5ms/step - loss: 0.1360 - val_loss: 0.1356\n",
            "Epoch 62/200\n",
            "657/657 [==============================] - 3s 5ms/step - loss: 0.1358 - val_loss: 0.1354\n",
            "Epoch 63/200\n",
            "657/657 [==============================] - 3s 5ms/step - loss: 0.1356 - val_loss: 0.1352\n",
            "Epoch 64/200\n",
            "657/657 [==============================] - 3s 5ms/step - loss: 0.1354 - val_loss: 0.1350\n",
            "Epoch 65/200\n",
            "657/657 [==============================] - 3s 5ms/step - loss: 0.1352 - val_loss: 0.1348\n",
            "Epoch 66/200\n",
            "657/657 [==============================] - 3s 5ms/step - loss: 0.1350 - val_loss: 0.1346\n",
            "Epoch 67/200\n",
            "657/657 [==============================] - 3s 5ms/step - loss: 0.1348 - val_loss: 0.1344\n",
            "Epoch 68/200\n",
            "657/657 [==============================] - 3s 5ms/step - loss: 0.1346 - val_loss: 0.1342\n",
            "Epoch 69/200\n",
            "657/657 [==============================] - 3s 5ms/step - loss: 0.1344 - val_loss: 0.1340\n",
            "Epoch 70/200\n",
            "657/657 [==============================] - 3s 5ms/step - loss: 0.1342 - val_loss: 0.1338\n",
            "Epoch 71/200\n",
            "657/657 [==============================] - 3s 5ms/step - loss: 0.1340 - val_loss: 0.1337\n",
            "Epoch 72/200\n",
            "657/657 [==============================] - 3s 5ms/step - loss: 0.1339 - val_loss: 0.1335\n",
            "Epoch 73/200\n",
            "657/657 [==============================] - 3s 5ms/step - loss: 0.1337 - val_loss: 0.1333\n",
            "Epoch 74/200\n",
            "657/657 [==============================] - 3s 5ms/step - loss: 0.1335 - val_loss: 0.1332\n",
            "Epoch 75/200\n",
            "657/657 [==============================] - 3s 5ms/step - loss: 0.1334 - val_loss: 0.1330\n",
            "Epoch 76/200\n",
            "657/657 [==============================] - 3s 5ms/step - loss: 0.1332 - val_loss: 0.1328\n",
            "Epoch 77/200\n",
            "657/657 [==============================] - 3s 5ms/step - loss: 0.1330 - val_loss: 0.1327\n",
            "Epoch 78/200\n",
            "657/657 [==============================] - 3s 5ms/step - loss: 0.1329 - val_loss: 0.1325\n",
            "Epoch 79/200\n",
            "657/657 [==============================] - 3s 5ms/step - loss: 0.1327 - val_loss: 0.1323\n",
            "Epoch 80/200\n",
            "657/657 [==============================] - 3s 5ms/step - loss: 0.1326 - val_loss: 0.1322\n",
            "Epoch 81/200\n",
            "657/657 [==============================] - 3s 5ms/step - loss: 0.1324 - val_loss: 0.1320\n",
            "Epoch 82/200\n",
            "657/657 [==============================] - 3s 5ms/step - loss: 0.1322 - val_loss: 0.1319\n",
            "Epoch 83/200\n",
            "657/657 [==============================] - 3s 5ms/step - loss: 0.1321 - val_loss: 0.1318\n",
            "Epoch 84/200\n",
            "657/657 [==============================] - 3s 5ms/step - loss: 0.1320 - val_loss: 0.1316\n",
            "Epoch 85/200\n",
            "657/657 [==============================] - 3s 5ms/step - loss: 0.1318 - val_loss: 0.1315\n",
            "Epoch 86/200\n",
            "657/657 [==============================] - 3s 5ms/step - loss: 0.1317 - val_loss: 0.1313\n",
            "Epoch 87/200\n",
            "657/657 [==============================] - 3s 5ms/step - loss: 0.1316 - val_loss: 0.1312\n",
            "Epoch 88/200\n",
            "657/657 [==============================] - 3s 5ms/step - loss: 0.1314 - val_loss: 0.1311\n",
            "Epoch 89/200\n",
            "657/657 [==============================] - 3s 5ms/step - loss: 0.1313 - val_loss: 0.1309\n",
            "Epoch 90/200\n",
            "657/657 [==============================] - 3s 5ms/step - loss: 0.1312 - val_loss: 0.1308\n",
            "Epoch 91/200\n",
            "657/657 [==============================] - 3s 5ms/step - loss: 0.1310 - val_loss: 0.1307\n",
            "Epoch 92/200\n",
            "657/657 [==============================] - 3s 5ms/step - loss: 0.1309 - val_loss: 0.1305\n",
            "Epoch 93/200\n",
            "657/657 [==============================] - 3s 5ms/step - loss: 0.1307 - val_loss: 0.1304\n",
            "Epoch 94/200\n",
            "657/657 [==============================] - 3s 5ms/step - loss: 0.1306 - val_loss: 0.1303\n",
            "Epoch 95/200\n",
            "657/657 [==============================] - 3s 5ms/step - loss: 0.1305 - val_loss: 0.1302\n",
            "Epoch 96/200\n",
            "657/657 [==============================] - 3s 5ms/step - loss: 0.1304 - val_loss: 0.1301\n",
            "Epoch 97/200\n",
            "657/657 [==============================] - 3s 5ms/step - loss: 0.1303 - val_loss: 0.1300\n",
            "Epoch 98/200\n",
            "657/657 [==============================] - 3s 5ms/step - loss: 0.1302 - val_loss: 0.1298\n",
            "Epoch 99/200\n",
            "657/657 [==============================] - 3s 5ms/step - loss: 0.1301 - val_loss: 0.1297\n",
            "Epoch 100/200\n",
            "657/657 [==============================] - 3s 5ms/step - loss: 0.1300 - val_loss: 0.1296\n",
            "Epoch 101/200\n",
            "657/657 [==============================] - 3s 5ms/step - loss: 0.1299 - val_loss: 0.1295\n",
            "Epoch 102/200\n",
            "657/657 [==============================] - 3s 5ms/step - loss: 0.1297 - val_loss: 0.1294\n",
            "Epoch 103/200\n",
            "657/657 [==============================] - 3s 5ms/step - loss: 0.1297 - val_loss: 0.1293\n",
            "Epoch 104/200\n",
            "657/657 [==============================] - 3s 5ms/step - loss: 0.1295 - val_loss: 0.1292\n",
            "Epoch 105/200\n",
            "657/657 [==============================] - 3s 5ms/step - loss: 0.1294 - val_loss: 0.1291\n",
            "Epoch 106/200\n",
            "657/657 [==============================] - 3s 5ms/step - loss: 0.1293 - val_loss: 0.1290\n",
            "Epoch 107/200\n",
            "657/657 [==============================] - 3s 5ms/step - loss: 0.1292 - val_loss: 0.1289\n",
            "Epoch 108/200\n",
            "657/657 [==============================] - 3s 5ms/step - loss: 0.1291 - val_loss: 0.1288\n",
            "Epoch 109/200\n",
            "657/657 [==============================] - 3s 5ms/step - loss: 0.1290 - val_loss: 0.1287\n",
            "Epoch 110/200\n",
            "657/657 [==============================] - 3s 5ms/step - loss: 0.1290 - val_loss: 0.1286\n",
            "Epoch 111/200\n",
            "657/657 [==============================] - 3s 5ms/step - loss: 0.1289 - val_loss: 0.1285\n",
            "Epoch 112/200\n",
            "657/657 [==============================] - 3s 5ms/step - loss: 0.1288 - val_loss: 0.1284\n",
            "Epoch 113/200\n",
            "657/657 [==============================] - 3s 5ms/step - loss: 0.1287 - val_loss: 0.1284\n",
            "Epoch 114/200\n",
            "657/657 [==============================] - 3s 5ms/step - loss: 0.1286 - val_loss: 0.1283\n",
            "Epoch 115/200\n",
            "657/657 [==============================] - 3s 5ms/step - loss: 0.1285 - val_loss: 0.1282\n",
            "Epoch 116/200\n",
            "657/657 [==============================] - 3s 5ms/step - loss: 0.1284 - val_loss: 0.1281\n",
            "Epoch 117/200\n",
            "657/657 [==============================] - 3s 5ms/step - loss: 0.1283 - val_loss: 0.1280\n",
            "Epoch 118/200\n",
            "657/657 [==============================] - 3s 5ms/step - loss: 0.1282 - val_loss: 0.1279\n",
            "Epoch 119/200\n",
            "657/657 [==============================] - 3s 5ms/step - loss: 0.1281 - val_loss: 0.1278\n",
            "Epoch 120/200\n",
            "657/657 [==============================] - 3s 5ms/step - loss: 0.1281 - val_loss: 0.1278\n",
            "Epoch 121/200\n",
            "657/657 [==============================] - 3s 5ms/step - loss: 0.1280 - val_loss: 0.1277\n",
            "Epoch 122/200\n",
            "657/657 [==============================] - 3s 5ms/step - loss: 0.1279 - val_loss: 0.1276\n",
            "Epoch 123/200\n",
            "657/657 [==============================] - 3s 5ms/step - loss: 0.1278 - val_loss: 0.1275\n",
            "Epoch 124/200\n",
            "657/657 [==============================] - 3s 5ms/step - loss: 0.1277 - val_loss: 0.1274\n",
            "Epoch 125/200\n",
            "657/657 [==============================] - 3s 5ms/step - loss: 0.1277 - val_loss: 0.1274\n",
            "Epoch 126/200\n",
            "657/657 [==============================] - 3s 5ms/step - loss: 0.1276 - val_loss: 0.1273\n",
            "Epoch 127/200\n",
            "657/657 [==============================] - 3s 5ms/step - loss: 0.1275 - val_loss: 0.1272\n",
            "Epoch 128/200\n",
            "657/657 [==============================] - 3s 5ms/step - loss: 0.1274 - val_loss: 0.1271\n",
            "Epoch 129/200\n",
            "657/657 [==============================] - 3s 5ms/step - loss: 0.1273 - val_loss: 0.1270\n",
            "Epoch 130/200\n",
            "657/657 [==============================] - 3s 5ms/step - loss: 0.1273 - val_loss: 0.1270\n",
            "Epoch 131/200\n",
            "657/657 [==============================] - 3s 5ms/step - loss: 0.1272 - val_loss: 0.1269\n",
            "Epoch 132/200\n",
            "657/657 [==============================] - 3s 5ms/step - loss: 0.1271 - val_loss: 0.1268\n",
            "Epoch 133/200\n",
            "657/657 [==============================] - 3s 5ms/step - loss: 0.1270 - val_loss: 0.1268\n",
            "Epoch 134/200\n",
            "657/657 [==============================] - 3s 5ms/step - loss: 0.1270 - val_loss: 0.1267\n",
            "Epoch 135/200\n",
            "657/657 [==============================] - 3s 5ms/step - loss: 0.1269 - val_loss: 0.1266\n",
            "Epoch 136/200\n",
            "657/657 [==============================] - 3s 5ms/step - loss: 0.1268 - val_loss: 0.1265\n",
            "Epoch 137/200\n",
            "657/657 [==============================] - 3s 5ms/step - loss: 0.1267 - val_loss: 0.1265\n",
            "Epoch 138/200\n",
            "657/657 [==============================] - 3s 5ms/step - loss: 0.1267 - val_loss: 0.1264\n",
            "Epoch 139/200\n",
            "657/657 [==============================] - 3s 5ms/step - loss: 0.1266 - val_loss: 0.1263\n",
            "Epoch 140/200\n",
            "657/657 [==============================] - 3s 5ms/step - loss: 0.1265 - val_loss: 0.1263\n",
            "Epoch 141/200\n",
            "657/657 [==============================] - 3s 5ms/step - loss: 0.1265 - val_loss: 0.1262\n",
            "Epoch 142/200\n",
            "657/657 [==============================] - 3s 5ms/step - loss: 0.1264 - val_loss: 0.1261\n",
            "Epoch 143/200\n",
            "657/657 [==============================] - 3s 5ms/step - loss: 0.1263 - val_loss: 0.1261\n",
            "Epoch 144/200\n",
            "657/657 [==============================] - 3s 5ms/step - loss: 0.1263 - val_loss: 0.1260\n",
            "Epoch 145/200\n",
            "657/657 [==============================] - 3s 5ms/step - loss: 0.1262 - val_loss: 0.1259\n",
            "Epoch 146/200\n",
            "657/657 [==============================] - 3s 5ms/step - loss: 0.1261 - val_loss: 0.1259\n",
            "Epoch 147/200\n",
            "657/657 [==============================] - 3s 5ms/step - loss: 0.1261 - val_loss: 0.1258\n",
            "Epoch 148/200\n",
            "657/657 [==============================] - 3s 5ms/step - loss: 0.1260 - val_loss: 0.1257\n",
            "Epoch 149/200\n",
            "657/657 [==============================] - 3s 5ms/step - loss: 0.1260 - val_loss: 0.1257\n",
            "Epoch 150/200\n",
            "657/657 [==============================] - 3s 5ms/step - loss: 0.1259 - val_loss: 0.1256\n",
            "Epoch 151/200\n",
            "657/657 [==============================] - 3s 5ms/step - loss: 0.1258 - val_loss: 0.1255\n",
            "Epoch 152/200\n",
            "657/657 [==============================] - 3s 5ms/step - loss: 0.1258 - val_loss: 0.1255\n",
            "Epoch 153/200\n",
            "657/657 [==============================] - 3s 5ms/step - loss: 0.1257 - val_loss: 0.1254\n",
            "Epoch 154/200\n",
            "657/657 [==============================] - 3s 5ms/step - loss: 0.1256 - val_loss: 0.1254\n",
            "Epoch 155/200\n",
            "657/657 [==============================] - 3s 5ms/step - loss: 0.1256 - val_loss: 0.1253\n",
            "Epoch 156/200\n",
            "657/657 [==============================] - 3s 5ms/step - loss: 0.1255 - val_loss: 0.1252\n",
            "Epoch 157/200\n",
            "657/657 [==============================] - 3s 5ms/step - loss: 0.1255 - val_loss: 0.1252\n",
            "Epoch 158/200\n",
            "657/657 [==============================] - 3s 5ms/step - loss: 0.1254 - val_loss: 0.1251\n",
            "Epoch 159/200\n",
            "657/657 [==============================] - 3s 5ms/step - loss: 0.1253 - val_loss: 0.1251\n",
            "Epoch 160/200\n",
            "657/657 [==============================] - 3s 5ms/step - loss: 0.1253 - val_loss: 0.1250\n",
            "Epoch 161/200\n",
            "657/657 [==============================] - 3s 5ms/step - loss: 0.1252 - val_loss: 0.1250\n",
            "Epoch 162/200\n",
            "657/657 [==============================] - 3s 5ms/step - loss: 0.1252 - val_loss: 0.1249\n",
            "Epoch 163/200\n",
            "657/657 [==============================] - 3s 5ms/step - loss: 0.1251 - val_loss: 0.1248\n",
            "Epoch 164/200\n",
            "657/657 [==============================] - 3s 5ms/step - loss: 0.1251 - val_loss: 0.1248\n",
            "Epoch 165/200\n",
            "657/657 [==============================] - 3s 5ms/step - loss: 0.1250 - val_loss: 0.1247\n",
            "Epoch 166/200\n",
            "657/657 [==============================] - 3s 5ms/step - loss: 0.1249 - val_loss: 0.1247\n",
            "Epoch 167/200\n",
            "657/657 [==============================] - 3s 5ms/step - loss: 0.1249 - val_loss: 0.1246\n",
            "Epoch 168/200\n",
            "657/657 [==============================] - 3s 5ms/step - loss: 0.1248 - val_loss: 0.1246\n",
            "Epoch 169/200\n",
            "657/657 [==============================] - 3s 5ms/step - loss: 0.1248 - val_loss: 0.1245\n",
            "Epoch 170/200\n",
            "657/657 [==============================] - 3s 5ms/step - loss: 0.1247 - val_loss: 0.1245\n",
            "Epoch 171/200\n",
            "657/657 [==============================] - 3s 5ms/step - loss: 0.1247 - val_loss: 0.1244\n",
            "Epoch 172/200\n",
            "657/657 [==============================] - 3s 5ms/step - loss: 0.1246 - val_loss: 0.1244\n",
            "Epoch 173/200\n",
            "657/657 [==============================] - 3s 5ms/step - loss: 0.1245 - val_loss: 0.1243\n",
            "Epoch 174/200\n",
            "657/657 [==============================] - 3s 5ms/step - loss: 0.1245 - val_loss: 0.1243\n",
            "Epoch 175/200\n",
            "657/657 [==============================] - 3s 5ms/step - loss: 0.1245 - val_loss: 0.1242\n",
            "Epoch 176/200\n",
            "657/657 [==============================] - 3s 5ms/step - loss: 0.1244 - val_loss: 0.1241\n",
            "Epoch 177/200\n",
            "657/657 [==============================] - 3s 5ms/step - loss: 0.1244 - val_loss: 0.1241\n",
            "Epoch 178/200\n",
            "657/657 [==============================] - 3s 5ms/step - loss: 0.1243 - val_loss: 0.1241\n",
            "Epoch 179/200\n",
            "657/657 [==============================] - 3s 5ms/step - loss: 0.1243 - val_loss: 0.1240\n",
            "Epoch 180/200\n",
            "657/657 [==============================] - 3s 5ms/step - loss: 0.1242 - val_loss: 0.1239\n",
            "Epoch 181/200\n",
            "657/657 [==============================] - 3s 5ms/step - loss: 0.1242 - val_loss: 0.1239\n",
            "Epoch 182/200\n",
            "657/657 [==============================] - 3s 5ms/step - loss: 0.1241 - val_loss: 0.1238\n",
            "Epoch 183/200\n",
            "657/657 [==============================] - 3s 5ms/step - loss: 0.1241 - val_loss: 0.1238\n",
            "Epoch 184/200\n",
            "657/657 [==============================] - 3s 5ms/step - loss: 0.1240 - val_loss: 0.1237\n",
            "Epoch 185/200\n",
            "657/657 [==============================] - 3s 5ms/step - loss: 0.1240 - val_loss: 0.1237\n",
            "Epoch 186/200\n",
            "657/657 [==============================] - 3s 5ms/step - loss: 0.1239 - val_loss: 0.1236\n",
            "Epoch 187/200\n",
            "657/657 [==============================] - 3s 5ms/step - loss: 0.1239 - val_loss: 0.1236\n",
            "Epoch 188/200\n",
            "657/657 [==============================] - 3s 5ms/step - loss: 0.1238 - val_loss: 0.1236\n",
            "Epoch 189/200\n",
            "657/657 [==============================] - 3s 5ms/step - loss: 0.1238 - val_loss: 0.1235\n",
            "Epoch 190/200\n",
            "657/657 [==============================] - 3s 5ms/step - loss: 0.1237 - val_loss: 0.1235\n",
            "Epoch 191/200\n",
            "657/657 [==============================] - 3s 5ms/step - loss: 0.1237 - val_loss: 0.1234\n",
            "Epoch 192/200\n",
            "657/657 [==============================] - 3s 5ms/step - loss: 0.1236 - val_loss: 0.1234\n",
            "Epoch 193/200\n",
            "657/657 [==============================] - 3s 5ms/step - loss: 0.1236 - val_loss: 0.1233\n",
            "Epoch 194/200\n",
            "657/657 [==============================] - 3s 5ms/step - loss: 0.1235 - val_loss: 0.1233\n",
            "Epoch 195/200\n",
            "657/657 [==============================] - 3s 5ms/step - loss: 0.1235 - val_loss: 0.1232\n",
            "Epoch 196/200\n",
            "657/657 [==============================] - 3s 5ms/step - loss: 0.1235 - val_loss: 0.1232\n",
            "Epoch 197/200\n",
            "657/657 [==============================] - 3s 5ms/step - loss: 0.1234 - val_loss: 0.1231\n",
            "Epoch 198/200\n",
            "657/657 [==============================] - 3s 5ms/step - loss: 0.1234 - val_loss: 0.1231\n",
            "Epoch 199/200\n",
            "657/657 [==============================] - 3s 5ms/step - loss: 0.1233 - val_loss: 0.1230\n",
            "Epoch 200/200\n",
            "657/657 [==============================] - 3s 5ms/step - loss: 0.1233 - val_loss: 0.1230\n"
          ],
          "name": "stdout"
        },
        {
          "output_type": "execute_result",
          "data": {
            "text/plain": [
              "<tensorflow.python.keras.callbacks.History at 0x7f9620e00d30>"
            ]
          },
          "metadata": {
            "tags": []
          },
          "execution_count": 21
        }
      ]
    },
    {
      "cell_type": "code",
      "metadata": {
        "id": "HDZ0OYfbQQJG",
        "colab_type": "code",
        "colab": {}
      },
      "source": [
        "preds = autoencoder.predict(x_train_noisy)"
      ],
      "execution_count": 0,
      "outputs": []
    },
    {
      "cell_type": "code",
      "metadata": {
        "id": "MxLiA3ChNG1K",
        "colab_type": "code",
        "colab": {
          "base_uri": "https://localhost:8080/",
          "height": 248
        },
        "outputId": "af1516b3-46f2-46c2-d82d-759f0faade47"
      },
      "source": [
        "n = 10\n",
        "\n",
        "plt.figure(figsize=(20, 4))\n",
        "for i in range(n):\n",
        "    # display original\n",
        "    ax = plt.subplot(2, n, i + 1)\n",
        "    plt.imshow(x_train_noisy[i].reshape(28, 28))\n",
        "    # plt.gray()\n",
        "    ax.get_xaxis().set_visible(False)\n",
        "    ax.get_yaxis().set_visible(False)\n",
        "\n",
        "    # display reconstruction\n",
        "    ax = plt.subplot(2, n, i+1+n)\n",
        "    plt.imshow(preds[i].reshape(28, 28))\n",
        "    # plt.gray()\n",
        "    ax.get_xaxis().set_visible(False)\n",
        "    ax.get_yaxis().set_visible(False)\n",
        "plt.show()"
      ],
      "execution_count": 23,
      "outputs": [
        {
          "output_type": "display_data",
          "data": {
            "image/png": "[encoded data removed]",
            "text/plain": [
              "<Figure size 1440x288 with 20 Axes>"
            ]
          },
          "metadata": {
            "tags": []
          }
        }
      ]
    }
  ]
}